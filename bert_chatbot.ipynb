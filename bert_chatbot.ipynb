{
  "nbformat": 4,
  "nbformat_minor": 0,
  "metadata": {
    "colab": {
      "provenance": [],
      "authorship_tag": "ABX9TyPRqpk2Hba+J7JtkR/eqt+f",
      "include_colab_link": true
    },
    "kernelspec": {
      "name": "python3",
      "display_name": "Python 3"
    },
    "language_info": {
      "name": "python"
    },
    "accelerator": "GPU",
    "gpuClass": "standard"
  },
  "cells": [
    {
      "cell_type": "markdown",
      "metadata": {
        "id": "view-in-github",
        "colab_type": "text"
      },
      "source": [
        "<a href=\"https://colab.research.google.com/github/MaryamNourii/ChatBot/blob/main/bert_chatbot.ipynb\" target=\"_parent\"><img src=\"https://colab.research.google.com/assets/colab-badge.svg\" alt=\"Open In Colab\"/></a>"
      ]
    },
    {
      "cell_type": "code",
      "execution_count": null,
      "metadata": {
        "id": "tNJuPNf9lXP9"
      },
      "outputs": [],
      "source": [
        "!pip install tensorflow\n",
        "!pip install transformers"
      ]
    },
    {
      "cell_type": "code",
      "source": [
        "import os\n",
        "import pandas as pd\n",
        "import numpy as np\n",
        "import tensorflow as tf\n",
        "from transformers import TFAutoModelForSeq2SeqLM, AutoTokenizer, BartConfig,BertTokenizerFast\n",
        "from sklearn.model_selection import train_test_split"
      ],
      "metadata": {
        "id": "F3xw6Sajleg1"
      },
      "execution_count": null,
      "outputs": []
    },
    {
      "cell_type": "code",
      "source": [
        "data = pd.read_csv(\"percQA_CleanData.csv\")\n",
        "input_texts = data[\"question\"].tolist()\n",
        "output_texts = data[\"answer\"].tolist()"
      ],
      "metadata": {
        "id": "Zlz7isp-ljuN"
      },
      "execution_count": null,
      "outputs": []
    },
    {
      "cell_type": "code",
      "source": [
        "input_train, input_val, output_train, output_val = train_test_split(input_texts, output_texts, test_size=0.1, random_state=42)"
      ],
      "metadata": {
        "id": "xJpq3D8rlm8W"
      },
      "execution_count": null,
      "outputs": []
    },
    {
      "cell_type": "code",
      "source": [
        "MODEL_NAME_OR_PATH = 'HooshvareLab/bert-fa-base-uncased'"
      ],
      "metadata": {
        "id": "Bp_yX15clzpo"
      },
      "execution_count": null,
      "outputs": []
    },
    {
      "cell_type": "code",
      "source": [
        "max_length = 64"
      ],
      "metadata": {
        "id": "dxyTkeYVmG0P"
      },
      "execution_count": null,
      "outputs": []
    },
    {
      "cell_type": "code",
      "source": [
        "config = BartConfig.from_pretrained(MODEL_NAME_OR_PATH, output_hidden_states=False)\n",
        "tokenizer = AutoTokenizer.from_pretrained(MODEL_NAME_OR_PATH)\n",
        "model = TFAutoModelForSeq2SeqLM.from_pretrained(MODEL_NAME_OR_PATH, config = config)"
      ],
      "metadata": {
        "id": "lFGOVIU1lxpj"
      },
      "execution_count": null,
      "outputs": []
    },
    {
      "cell_type": "code",
      "source": [
        "train_encodings = tokenizer(input_train,\n",
        "                            add_special_tokens = True,\n",
        "                            max_length = max_length,\n",
        "                            truncation = True,\n",
        "                            padding = 'max_length', \n",
        "                            return_tensors = 'tf',\n",
        "                            return_token_type_ids = True,\n",
        "                            return_attention_mask = True,\n",
        "                            verbose = True)\n",
        "val_encodings = tokenizer(input_val,\n",
        "                            add_special_tokens = True,\n",
        "                            max_length = max_length,\n",
        "                            truncation = True,\n",
        "                            padding = 'max_length', \n",
        "                            return_tensors = 'tf',\n",
        "                            return_token_type_ids = True,\n",
        "                            return_attention_mask = True,\n",
        "                            verbose = True)\n",
        "train_decodings = tokenizer(output_train,\n",
        "                            add_special_tokens = True,\n",
        "                            max_length = max_length,\n",
        "                            truncation = True,\n",
        "                            padding = 'max_length', \n",
        "                            return_tensors = 'tf',\n",
        "                            return_token_type_ids = True,\n",
        "                            return_attention_mask = True,\n",
        "                            verbose = True)                            \n",
        "val_decodings = tokenizer(output_val,\n",
        "                          add_special_tokens = True,\n",
        "                          max_length = max_length,\n",
        "                          truncation = True,\n",
        "                          padding = 'max_length', \n",
        "                          return_tensors = 'tf',\n",
        "                          return_token_type_ids = True,\n",
        "                          return_attention_mask = True,\n",
        "                          verbose = True)                          "
      ],
      "metadata": {
        "id": "9YGqTrwfmGWU"
      },
      "execution_count": null,
      "outputs": []
    },
    {
      "cell_type": "code",
      "source": [
        "train_encodings"
      ],
      "metadata": {
        "id": "uY7RBKQmDGsf"
      },
      "execution_count": null,
      "outputs": []
    },
    {
      "cell_type": "code",
      "source": [
        "train_encdngs = {'input_ids': train_encodings['input_ids'], 'attention_mask': train_encodings['attention_mask'],'token_ids': train_encodings['token_type_ids']}\n",
        "val_encdngs = {'input_ids': val_encodings['input_ids'], 'attention_mask': val_encodings['attention_mask'],'token_ids': val_encodings['token_type_ids']}\n",
        "train_dcdngs = {'input_ids': train_decodings['input_ids'], 'attention_mask': train_decodings['attention_mask'],'token_ids': train_decodings['token_type_ids']}\n",
        "val_dcdngs = {'input_ids': val_decodings['input_ids'], 'attention_mask': val_decodings['attention_mask'],'token_ids': val_decodings['token_type_ids']}"
      ],
      "metadata": {
        "id": "fS4-rCS8Lz8w"
      },
      "execution_count": null,
      "outputs": []
    },
    {
      "cell_type": "code",
      "source": [
        "train_dataset = tf.data.Dataset.from_tensor_slices((\n",
        "    dict(train_encdngs),\n",
        "    dict(train_dcdngs)\n",
        ")).shuffle(1000).batch(1)\n",
        "\n",
        "val_dataset = tf.data.Dataset.from_tensor_slices((\n",
        "    dict(val_encdngs),\n",
        "    dict(val_dcdngs)\n",
        ")).shuffle(1000).batch(1)"
      ],
      "metadata": {
        "id": "j8uFKgcHNVfm"
      },
      "execution_count": null,
      "outputs": []
    },
    {
      "cell_type": "code",
      "source": [
        "optimizer = tf.keras.optimizers.Adam(learning_rate=5e-5)\n",
        "model.compile(optimizer=optimizer, loss=model.compute_loss)"
      ],
      "metadata": {
        "id": "sGp53_ytlbzj"
      },
      "execution_count": null,
      "outputs": []
    },
    {
      "cell_type": "code",
      "source": [
        "from transformers import AutoTokenizer\n",
        "\n",
        "tokenizer = AutoTokenizer.from_pretrained('your-model-name')\n",
        "\n",
        "def tokenize_function(examples):\n",
        "    return tokenizer(examples['input_text'], padding=True, truncation=True, max_length=64)\n",
        "\n",
        "train_dataset = train_dataset.map(tokenize_function, batched=True)\n",
        "val_dataset = val_dataset.map(tokenize_function, batched=True)"
      ],
      "metadata": {
        "id": "eCfugNKIC6VA"
      },
      "execution_count": null,
      "outputs": []
    },
    {
      "cell_type": "code",
      "source": [
        "model.fit(train_dataset, epochs=3, validation_data=val_dataset)"
      ],
      "metadata": {
        "id": "7BrLfTQOKm3I"
      },
      "execution_count": null,
      "outputs": []
    },
    {
      "cell_type": "code",
      "source": [
        "model.save_pretrained(\"fine_tuned_parsbert/\")\n",
        "tokenizer.save_pretrained(\"fine_tuned_parsbert/\")"
      ],
      "metadata": {
        "id": "dw6WxmxglavK"
      },
      "execution_count": null,
      "outputs": []
    },
    {
      "cell_type": "code",
      "source": [
        "def chatbot_response(text):\n",
        "    tokenizer = AutoTokenizer.from_pretrained(\"fine_tuned_parsbert/\")\n",
        "    model = TFAutoModelForSeq2SeqLM.from_pretrained(\"fine_tuned_parsbert/\")\n",
        "    input_text = tokenizer.encode(text, return_tensors=\"tf\")\n",
        "    output_text = model.generate(input_text, max_length=128, num_return_sequences=1)\n",
        "    decoded_output = tokenizer.decode(output_text[0], skip_special_tokens=True)\n",
        "\n",
        "    return decoded_output\n",
        "\n",
        "input_text = \"سلام، حال شما چطور است؟\"\n",
        "response = chatbot_response(input_text)\n",
        "print(response)"
      ],
      "metadata": {
        "id": "fqetXsN6Orrb"
      },
      "execution_count": null,
      "outputs": []
    }
  ]
}